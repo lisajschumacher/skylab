{
 "cells": [
  {
   "cell_type": "code",
   "execution_count": 1,
   "metadata": {
    "collapsed": true
   },
   "outputs": [],
   "source": [
    "%matplotlib inline"
   ]
  },
  {
   "cell_type": "code",
   "execution_count": 2,
   "metadata": {
    "collapsed": true
   },
   "outputs": [],
   "source": [
    "import numpy as np\n",
    "import seaborn as sb\n",
    "plt = sb.mpl.pyplot\n",
    "\n",
    "from os.path import join\n",
    "\n",
    "import glob\n",
    "\n",
    "from matplotlib.colors import LogNorm"
   ]
  },
  {
   "cell_type": "code",
   "execution_count": 3,
   "metadata": {
    "collapsed": true
   },
   "outputs": [],
   "source": [
    "ant_path = \"/home/lschumacher/antares/LL_ingredients/\"\n",
    "\n",
    "files = sorted(glob.glob(join(ant_path, \"*\")))\n",
    "print files\n",
    "\n",
    "for f in files:\n",
    "    data = np.genfromtxt(f)\n",
    "    xbins = len(np.unique(data[:,0]))\n",
    "    ybins = len(np.unique(data[:,1]))\n",
    "    plt.figure()\n",
    "    ax = plt.pcolor(data[:,0].reshape(xbins, ybins), \n",
    "                    data[:,1].reshape(xbins, ybins), \n",
    "                    data[:,2].reshape(xbins, ybins),\n",
    "                    #vmin=1e-3,\n",
    "                    norm=LogNorm(),\n",
    "                    cmap=plt.cm.jet)\n",
    "    plt.colorbar()\n",
    "    plt.xlim(-1,1)\n",
    "    plt.ylim(2.5, 6)\n",
    "    plt.title(f.split(\"/\")[-1])"
   ]
  },
  {
   "cell_type": "code",
   "execution_count": 63,
   "metadata": {},
   "outputs": [
    {
     "data": {
      "text/plain": [
       "0.9875"
      ]
     },
     "execution_count": 63,
     "metadata": {},
     "output_type": "execute_result"
    }
   ],
   "source": [
    "max(data[:,0])"
   ]
  },
  {
   "cell_type": "code",
   "execution_count": null,
   "metadata": {
    "collapsed": true
   },
   "outputs": [],
   "source": []
  }
 ],
 "metadata": {
  "kernelspec": {
   "display_name": "Python 2",
   "language": "python",
   "name": "python2"
  },
  "language_info": {
   "codemirror_mode": {
    "name": "ipython",
    "version": 2
   },
   "file_extension": ".py",
   "mimetype": "text/x-python",
   "name": "python",
   "nbconvert_exporter": "python",
   "pygments_lexer": "ipython2",
   "version": "2.7.10"
  }
 },
 "nbformat": 4,
 "nbformat_minor": 2
}
