{
 "cells": [
  {
   "cell_type": "code",
   "execution_count": 1,
   "metadata": {
    "collapsed": true
   },
   "outputs": [],
   "source": [
    "%matplotlib inline\n",
    "%load_ext autoreload\n",
    "%autoreload 2"
   ]
  },
  {
   "cell_type": "code",
   "execution_count": 2,
   "metadata": {},
   "outputs": [
    {
     "name": "stdout",
     "output_type": "stream",
     "text": [
      "Could not import from icecube, coordinate operations will not be possible\n"
     ]
    }
   ],
   "source": [
    "#!/bin/env python\n",
    "\n",
    "# -*-coding:utf8-*-\n",
    "\n",
    "from os.path import join\n",
    "import logging\n",
    "from time import time\n",
    "from yaml import load as yload\n",
    "\n",
    "# scipy\n",
    "import numpy as np\n",
    "import numpy.lib.recfunctions\n",
    "from argparse import ArgumentParser\n",
    "\n",
    "# skylab\n",
    "from skylab.priors import SpatialPrior\n",
    "\n",
    "# additional personal imports\n",
    "import ic_utils as utils\n",
    "from prior_generator import UhecrPriorGenerator\n",
    "\n",
    "# stuff to identify user\n",
    "import getpass\n",
    "from socket import gethostname\n",
    "username = getpass.getuser()\n",
    "\n",
    "\n",
    "import healpy as hp\n",
    "\n",
    "# plotting\n",
    "import seaborn as sns\n",
    "plt = sns.mpl.pyplot"
   ]
  },
  {
   "cell_type": "code",
   "execution_count": 8,
   "metadata": {
    "collapsed": true
   },
   "outputs": [],
   "source": [
    "from test_statistics import TestStatisticNotSeparated"
   ]
  },
  {
   "cell_type": "raw",
   "metadata": {},
   "source": [
    "import ic_data\n",
    "\n",
    "ic_data.save_raw_antares_data()"
   ]
  },
  {
   "cell_type": "code",
   "execution_count": 15,
   "metadata": {},
   "outputs": [
    {
     "name": "stdout",
     "output_type": "stream",
     "text": [
      "Loaded yaml args...:\n",
      "Data will be saved to:  /data/user/lschumacher/projects/stacking/hotspot_fitting/merged/ic-ant_mdparams-6.0_ecut-85_mu-10_srcgamma-2.19_shift-0_nsamples-2\n",
      "With Identifier:  ic-ant_mdparams-6.0_ecut-85_mu-10_srcgamma-2.19_shift-0_nsamples-2\n",
      "{'gammarange': [1.9, 2.5], 'niter': 1, 'ecut': 85, 'burn': False, 'followupfactor': 2, 'nsideparam': 6, 'shift': 0, 'sample_names': ['IC86, 2012', 'ANTARES'], 'srcgamma': 2.19, 'mu': 10, 'job': 0, 'add': 'ic-ant', 'crfiles': ['AugerUHECR2014.txt', 'TelArrayUHECR.txt'], 'mdparams': 6.0}\n"
     ]
    }
   ],
   "source": [
    "pVal_func = None\n",
    "ident = [\n",
    "\"mdparams\",\n",
    "\"ecut\",\n",
    "\"mu\",\n",
    "\"srcgamma\",\n",
    "\"shift\"\n",
    "]\n",
    "\n",
    "test_args = {\"nsideparam\": 6,\n",
    "             \"followupfactor\": 2,\n",
    "             \"ecut\": 0,\n",
    "             \"crfiles\": [\"Auger_test.txt\"],\n",
    "             \"burn\": False,\n",
    "            }\n",
    "full_args = {\"nsideparam\": 6,\n",
    "             \"followupfactor\": 2,\n",
    "             \"crfiles\": [\"AugerUHECR2014.txt\", \"TelArrayUHECR.txt\"],\n",
    "             \"burn\": False}\n",
    "\n",
    "yaml_file = \"/home/lschumacher/svn_repos/skylab/trunk/doc/analyses/lschumacher-UHECR/dag_scripts/antares_test.yaml\"\n",
    "jobID = 0\n",
    "\n",
    "args = yload(file(yaml_file))\n",
    "print(\"Loaded yaml args...:\")\n",
    "\n",
    "\n",
    "# get the parameter args and get a string for saving later\n",
    "if not \"test\" in args[\"add\"].lower():\n",
    "    args.update(full_args)\n",
    "    # Add time since epoch as additional unique label if we are not testing        \n",
    "    identifier = args[\"add\"]\n",
    "    if identifier[-1]!=\"_\": identifier+=\"_\"\n",
    "    for arg in ident:\n",
    "        identifier+=arg+\"-\"+str(args[arg])+\"_\"\n",
    "    identifier+=\"nsamples-\"+str(len(args[\"sample_names\"]))+\"_\"\n",
    "    # Remove last underscore\n",
    "    if identifier[-1]==\"_\": identifier=identifier[:-1]\n",
    "    seed = np.random.randint(2**32-jobID)\n",
    "else:\n",
    "    args.update(test_args)\n",
    "    identifier = args[\"add\"]\n",
    "    seed = jobID\n",
    "\n",
    "savepath, crpath, figurepath = utils.get_paths(gethostname())\n",
    "savepath = join(savepath, identifier)\n",
    "utils.prepare_directory(savepath)\n",
    "\n",
    "print \"Data will be saved to: \", savepath\n",
    "print \"With Identifier: \", identifier\n",
    "\n",
    "hemispheres = dict(Full = [-np.pi/2., np.pi/2.]) \n",
    "if len(args[\"sample_names\"])==1 and \"antares\" in args[\"sample_names\"][0].lower():\n",
    "    sinDec_range = [-1., 0.8]\n",
    "else:\n",
    "    sinDec_range =  [-1., 1.]\n",
    "nside = 2**args[\"nsideparam\"]\n",
    "print(args)"
   ]
  },
  {
   "cell_type": "markdown",
   "metadata": {},
   "source": [
    "### separate llh and injector"
   ]
  },
  {
   "cell_type": "code",
   "execution_count": 5,
   "metadata": {
    "collapsed": true
   },
   "outputs": [],
   "source": [
    "import ic_data as data\n",
    "\n",
    "from skylab.ps_injector import PriorInjector\n",
    "\n",
    "from skylab.ps_llh import PointSourceLLH, MultiPointSourceLLH\n",
    "\n",
    "from skylab.llh_models import EnergyLLH\n",
    "\n",
    "from skylab.utils import rotate, kernel_func"
   ]
  },
  {
   "cell_type": "code",
   "execution_count": 7,
   "metadata": {},
   "outputs": [],
   "source": [
    "mc, exp, lt, sinDec_bins, energy_bins = data.load_data(\"IC86, 2012\")\n",
    "mc2, exp2, lt2, sinDec_bins2, energy_bins2 = data.load_data(\"IC86, 2011\")\n",
    "\n",
    "amc, aexp, alt, asinDec_bins, aenergy_bins = data.load_data(\"antares\")"
   ]
  },
  {
   "cell_type": "code",
   "execution_count": 8,
   "metadata": {
    "collapsed": true
   },
   "outputs": [],
   "source": [
    "llh_model = EnergyLLH(twodim_bins=[energy_bins, sinDec_bins],\n",
    "                      bounds=args[\"gammarange\"], allow_empty=True)"
   ]
  },
  {
   "cell_type": "code",
   "execution_count": 9,
   "metadata": {
    "collapsed": true
   },
   "outputs": [],
   "source": [
    "llh_model2 = EnergyLLH(twodim_bins=[energy_bins2, sinDec_bins2],\n",
    "                      bounds=args[\"gammarange\"], allow_empty=True)"
   ]
  },
  {
   "cell_type": "code",
   "execution_count": 10,
   "metadata": {
    "collapsed": true
   },
   "outputs": [],
   "source": [
    "llh_model_ant = EnergyLLH(twodim_bins=[aenergy_bins, asinDec_bins],\n",
    "                      bounds=args[\"gammarange\"], allow_empty=True)"
   ]
  },
  {
   "cell_type": "code",
   "execution_count": 11,
   "metadata": {},
   "outputs": [
    {
     "name": "stderr",
     "output_type": "stream",
     "text": [
      "/home/lschumacher/svn_repos/skylab/trunk/skylab/llh_models.py:900: UserWarning: Energy bins empty. Empty bins: [9.3125 9.4375]\n",
      "  warnings.warn(estr)\n"
     ]
    }
   ],
   "source": [
    "llh_ic = PointSourceLLH(exp, mc, lt, llh_model, mode=\"box\", teststatistic=TestStatisticNotSeparated())"
   ]
  },
  {
   "cell_type": "code",
   "execution_count": 12,
   "metadata": {},
   "outputs": [
    {
     "name": "stderr",
     "output_type": "stream",
     "text": [
      "/home/lschumacher/svn_repos/skylab/trunk/skylab/llh_models.py:900: UserWarning: Energy bins empty. Empty bins: [1.0625 1.1875 1.4375 9.8125 9.9375]\n",
      "  warnings.warn(estr)\n"
     ]
    }
   ],
   "source": [
    "llh_ic2 = PointSourceLLH(exp2, mc2, lt2, llh_model2, mode=\"box\", teststatistic=TestStatisticNotSeparated())"
   ]
  },
  {
   "cell_type": "code",
   "execution_count": 13,
   "metadata": {},
   "outputs": [],
   "source": [
    "llh_ant = PointSourceLLH(aexp, amc, alt, llh_model_ant, mode=\"box\", teststatistic=TestStatisticNotSeparated())"
   ]
  },
  {
   "cell_type": "code",
   "execution_count": 14,
   "metadata": {
    "collapsed": true
   },
   "outputs": [],
   "source": [
    "llh_tot = MultiPointSourceLLH()\n",
    "\n",
    "llh_tot.add_sample(0, llh_ic)\n",
    "llh_tot.add_sample(1, llh_ic2)\n"
   ]
  },
  {
   "cell_type": "code",
   "execution_count": 15,
   "metadata": {
    "collapsed": true
   },
   "outputs": [],
   "source": [
    "llh_ic_ant = MultiPointSourceLLH()\n",
    "\n",
    "llh_ic_ant.add_sample(0, llh_ic)\n",
    "llh_ic_ant.add_sample(1, llh_ant)\n"
   ]
  },
  {
   "cell_type": "code",
   "execution_count": 17,
   "metadata": {},
   "outputs": [
    {
     "name": "stdout",
     "output_type": "stream",
     "text": [
      "[[ 3 13]] [16] [ 3 13] {0: array([(1102902005,  34720, 1.23294198, -0.00037099, 3.01326297, 0.01595474, 55927.01967593, 0.5326683 , -0.00037099),\n",
      "       (1102902441, 114291, 1.21260003, -0.00162399, 3.44171849, 0.00313116, 55927.01967593, 0.55302817, -0.00162399),\n",
      "       (1102900556,  81389, 1.20966193, -0.00144648, 4.04834161, 0.00397988, 55927.01967593, 0.57393627, -0.00144648)],\n",
      "      dtype=[('Run', '<i8'), ('Event', '<i8'), ('ra', '<f8'), ('dec', '<f8'), ('logE', '<f8'), ('sigma', '<f8'), ('time', '<f8'), ('BDT', '<f8'), ('sinDec', '<f8')]), 1: array([(1.19353687,  0.02856785, 3.76237, 0.00757913,  0.02856397),\n",
      "       (1.2112695 , -0.00112444, 4.81717, 0.00739325, -0.00112444),\n",
      "       (1.2178794 , -0.02242472, 3.08887, 0.0096871 , -0.02242284),\n",
      "       (1.14292746,  0.01646629, 3.85864, 0.01352813,  0.01646554),\n",
      "       (1.23411136,  0.00494705, 3.94702, 0.0062631 ,  0.00494703),\n",
      "       (1.21836588, -0.00105695, 3.92573, 0.00538849, -0.00105694),\n",
      "       (1.21884553,  0.00283997, 4.52651, 0.00386988,  0.00283997),\n",
      "       (1.21593554,  0.01258409, 3.74323, 0.0089845 ,  0.01258376),\n",
      "       (1.21431977, -0.00990877, 3.79178, 0.00509069, -0.00990861),\n",
      "       (1.21709653,  0.00073657, 3.82593, 0.0066826 ,  0.00073657),\n",
      "       (1.21878314,  0.00100544, 3.79281, 0.01050163,  0.00100544),\n",
      "       (1.22385623,  0.00499592, 3.47874, 0.00544625,  0.0049959 ),\n",
      "       (1.19395045, -0.01226017, 2.99195, 0.0083211 , -0.01225986)],\n",
      "      dtype=[('ra', '<f8'), ('dec', '<f8'), ('logE', '<f8'), ('sigma', '<f8'), ('sinDec', '<f8')])} [0.] [1.21491278]\n"
     ]
    }
   ],
   "source": [
    "injector_ic_ant = PriorInjector(prior, \n",
    "                         gamma = args[\"srcgamma\"], \n",
    "                         seed = seed,\n",
    "                         bunchsize = 10,\n",
    "                         E0 = 1 * data.GeV)\n",
    "injector_ic_ant.fill(llh_ic_ant.exp, llh_ic_ant.mc, llh_ic_ant.livetime)\n",
    "\n",
    "inj_arg = {\"mean_signal\": 20,\n",
    "           \"poisson\": False,\n",
    "           \"return_position\": True,\n",
    "           \"debug\": True,\n",
    "           \"logLevel\": logging.WARNING}\n",
    "\n",
    "injector_ic_ant.set_rng_seed(0)\n",
    "if inj_arg[\"return_position\"]:\n",
    "    ni_ic_ant, sample_ic_ant, src_ra_ic_ant, src_dec_ic_ant = injector_ic_ant.sample(**inj_arg)\n",
    "else:\n",
    "    ni_ic_ant, sample_ic_ant = injector_ic_ant.sample(**inj_arg)\n",
    "\n",
    "print ni_ic_ant, ni_ic_ant.sum(axis=1), ni_ic_ant.sum(axis=0), sample_ic_ant, src_dec_ic_ant, src_ra_ic_ant\n",
    "\n",
    "inj_sample_ic_ant = sample_ic_ant.copy()"
   ]
  },
  {
   "cell_type": "code",
   "execution_count": 18,
   "metadata": {
    "collapsed": true
   },
   "outputs": [],
   "source": [
    "injector_tot = PriorInjector(prior, \n",
    "                         gamma = args[\"srcgamma\"], \n",
    "                         seed = seed,\n",
    "                         bunchsize = 10,\n",
    "                         E0 = 1 * data.GeV)\n",
    "injector_tot.fill(llh_tot.exp, llh_tot.mc, llh_tot.livetime)\n",
    "\n",
    "inj_arg = {\"mean_signal\": 20,\n",
    "           \"poisson\": False,\n",
    "           \"return_position\": True,\n",
    "           \"debug\": True,\n",
    "           \"logLevel\": logging.WARNING}\n",
    "\n",
    "injector_tot.set_rng_seed(0)\n",
    "if inj_arg[\"return_position\"]:\n",
    "    ni_tot, sample_tot, src_ra_tot, src_dec_tot = injector_tot.sample(**inj_arg)\n",
    "else:\n",
    "    ni_tot, sample_tot = injector_tot.sample(**inj_arg)"
   ]
  },
  {
   "cell_type": "code",
   "execution_count": 19,
   "metadata": {},
   "outputs": [
    {
     "name": "stdout",
     "output_type": "stream",
     "text": [
      "[[ 6 13]] [19] [ 6 13] {0: array([(1106905633,  2527, 1.2165304 , -0.0023101 , 4.28852658, 0.0045001 , 55927.01967593, 0.56136346, -0.0023101 ),\n",
      "       (1106906100,  2939, 1.21213111, -0.0031197 , 2.7983888 , 0.00558984, 55927.01967593, 0.5405793 , -0.00311969),\n",
      "       (1106904399,  1543, 1.22472455, -0.0129721 , 3.51827422, 0.01290276, 55927.01967593, 0.55102377, -0.01297174),\n",
      "       (1102901572, 15128, 1.21331005,  0.01313076, 3.12094127, 0.00688793, 55927.01967593, 0.54491187,  0.01313038),\n",
      "       (1102901930, 40602, 1.24548501, -0.04302374, 3.34707541, 0.02102068, 55927.01967593, 0.53241198, -0.04301047),\n",
      "       (1102900429, 10049, 1.21960244, -0.00769207, 2.9948913 , 0.0255942 , 55927.01967593, 0.53394113, -0.00769199)],\n",
      "      dtype=[('Run', '<i8'), ('Event', '<i8'), ('ra', '<f8'), ('dec', '<f8'), ('logE', '<f8'), ('sigma', '<f8'), ('time', '<f8'), ('BDT', '<f8'), ('sinDec', '<f8')]), 1: array([(970100392,  958, 1.23410979, -0.02986742, 2.9432934 , 0.02735443, 55697., -0.02986298),\n",
      "       (936601363, 2319, 1.20790869, -0.0006126 , 3.19972491, 0.01380602, 55697., -0.0006126 ),\n",
      "       (936600855, 1423, 1.17771478, -0.00097046, 3.15308575, 0.01604894, 55697., -0.00097046),\n",
      "       (936601757,  362, 1.20377674, -0.00282175, 3.5089711 , 0.01443337, 55697., -0.00282174),\n",
      "       (970101973,   91, 1.22717988, -0.02593106, 3.60931387, 0.01238199, 55697., -0.02592816),\n",
      "       (970102674, 2938, 1.20650672, -0.01575025, 3.20923407, 0.00855796, 55697., -0.0157496 ),\n",
      "       (970101048,  904, 1.20533038,  0.00885605, 3.69113827, 0.00484904, 55697.,  0.00885594),\n",
      "       (936600697, 3317, 1.22548659, -0.01008463, 3.40748324, 0.01007008, 55697., -0.01008446),\n",
      "       (936601068, 2459, 1.22556643, -0.00124159, 4.53972009, 0.00783083, 55697., -0.00124159),\n",
      "       (970102273, 4731, 1.2202604 ,  0.00664467, 3.49832755, 0.00549688, 55697.,  0.00664462),\n",
      "       (970101433,  937, 1.20280878,  0.00958236, 3.29159903, 0.0288794 , 55697.,  0.00958222),\n",
      "       (970100933, 4659, 1.16180933,  0.00557699, 3.86530819, 0.01526893, 55697.,  0.00557696),\n",
      "       (970101765, 2578, 1.23635873, -0.02487998, 2.96048735, 0.01140487, 55697., -0.02487742)],\n",
      "      dtype=[('Run', '<i8'), ('Event', '<i8'), ('ra', '<f8'), ('dec', '<f8'), ('logE', '<f8'), ('sigma', '<f8'), ('time', '<f8'), ('sinDec', '<f8')])}\n"
     ]
    }
   ],
   "source": [
    "print ni_tot, ni_tot.sum(axis=1), ni_tot.sum(axis=0), sample_tot\n",
    "\n",
    "inj_sample_tot = sample_tot.copy()"
   ]
  },
  {
   "cell_type": "code",
   "execution_count": 20,
   "metadata": {
    "scrolled": true
   },
   "outputs": [
    {
     "name": "stdout",
     "output_type": "stream",
     "text": [
      "13.080935178452561 {'nsources': 11.465386956220659, 'gamma': 2.3499998661045094}\n",
      "13.080935178452561 {'nsources': 11.465386956220659, 'gamma': 2.3499998661045094}\n"
     ]
    }
   ],
   "source": [
    "fmin, pbest = llh_tot.fit_source(src_ra_tot, src_dec_tot, inject=inj_sample_tot, scramble=False)\n",
    "print fmin, pbest\n",
    "\n",
    "fmin, pbest = llh_tot.fit_source(src_ra_tot, src_dec_tot, inject=sample_tot.copy(), scramble=False)\n",
    "print fmin, pbest\n"
   ]
  },
  {
   "cell_type": "code",
   "execution_count": 21,
   "metadata": {
    "scrolled": true
   },
   "outputs": [
    {
     "name": "stdout",
     "output_type": "stream",
     "text": [
      "63.787310323100456 {'nsources': 13.057272308326182, 'gamma': 2.116093672948057}\n",
      "63.787310323100456 {'nsources': 13.057272308326182, 'gamma': 2.116093672948057}\n"
     ]
    }
   ],
   "source": [
    "fmin, pbest = llh_ic_ant.fit_source(src_ra_ic_ant, src_dec_ic_ant, inject=sample_ic_ant.copy(), scramble=False)\n",
    "print fmin, pbest\n",
    "\n",
    "fmin, pbest = llh_ic_ant.fit_source(src_ra_ic_ant, src_dec_ic_ant, inject=sample_ic_ant.copy(), scramble=False)\n",
    "print fmin, pbest\n"
   ]
  },
  {
   "cell_type": "code",
   "execution_count": 39,
   "metadata": {},
   "outputs": [
    {
     "name": "stdout",
     "output_type": "stream",
     "text": [
      "2.279e+01\n",
      "5.197e+01\n"
     ]
    }
   ],
   "source": [
    "print \"{:1.3e}\".format(np.sum(amc[\"ow\"]*amc[\"trueE\"]**-2.19))\n",
    "print \"{:1.3e}\".format(np.sum(mc[\"ow\"]*mc[\"trueE\"]**-2.19))\n"
   ]
  },
  {
   "cell_type": "raw",
   "metadata": {},
   "source": [
    "sindec = np.linspace(-1,1,num=100)\n",
    "\n",
    "for k in llh_tot._samples.keys():\n",
    "    plt.figure(1)\n",
    "    llm=llh_tot._samples[k].llh_model\n",
    "    bckg_spline = kernel_func(llm._bckg_spline, llm._XX)\n",
    "    plt.plot(sindec, np.exp(bckg_spline(sindec)), label=\"Sample \"+str(k))\n",
    "\n",
    "plt.title(r\"Spatial background PDF\")\n",
    "plt.xlabel(r\"sin($\\delta$)\")\n",
    "plt.ylabel(r\"$P_\\mathrm{B}(\\vec{r})=P_\\mathrm{B}(\\delta)\\cdot 2\\pi$\")\n",
    "plt.xlim(-1,1)\n",
    "plt.ylim(0,1.3)\n",
    "plt.legend(ncol=2, loc=2)\n",
    "\n",
    "#plt.show()"
   ]
  },
  {
   "cell_type": "raw",
   "metadata": {},
   "source": [
    "decs = np.arcsin(np.linspace(-1., 1., num=100))\n",
    "val = np.empty_like(decs)\n",
    "ns = np.empty_like(decs)\n",
    "gamma = np.empty_like(decs)\n",
    "fdec = np.empty_like(decs)\n",
    "fra = np.empty_like(decs)\n",
    "for i,src_dec in enumerate(decs):\n",
    "    ts, pbest = llh_tot.fit_source_loc(0, src_dec, size=nside2resol(nside), seed=dict(nsources=1, gamma=2.2))\n",
    "    ns[i]=pbest['nsources']\n",
    "    gamma[i]=pbest['gamma']\n",
    "    fdec[i]=pbest['dec']\n",
    "    fra[i]=pbest['ra']\n",
    "    val[i]=ts\n",
    "\n",
    "plt.figure()\n",
    "plt.plot(np.sin(decs), val)\n",
    "\n",
    "plt.figure()\n",
    "plt.plot(np.sin(decs), ns)\n",
    "\n",
    "plt.figure()\n",
    "plt.plot(np.sin(decs), gamma)\n",
    "\n",
    "plt.figure()\n",
    "plt.plot(np.sin(decs), fdec)\n",
    "\n",
    "plt.figure()\n",
    "plt.plot(np.sin(decs), fra)\n"
   ]
  },
  {
   "cell_type": "markdown",
   "metadata": {},
   "source": [
    "### normal setup"
   ]
  },
  {
   "cell_type": "code",
   "execution_count": 21,
   "metadata": {},
   "outputs": [],
   "source": [
    "# Generate several templates for prior fitting\n",
    "# One for each deflection hypothesis each\n",
    "pgen = UhecrPriorGenerator(args[\"nsideparam\"])\n",
    "p_template = pgen.calc_template(np.radians(args[\"mdparams\"]), args[\"ecut\"], crpath, files=args[\"crfiles\"])\n",
    "prior = SpatialPrior(p_template)\n",
    "\n",
    "## I want to be able to shift the injector template\n",
    "## in order to test systematically shifted priors\n",
    "## shift is given in sigma of the prior size\n",
    "if args[\"shift\"]!=0:\n",
    "    p_signal = pgen.calc_template(np.radians(args[\"mdparams\"]), args[\"ecut\"], crpath, shift=args[\"shift\"], files=args[\"crfiles\"])\n",
    "    prior_signal = SpatialPrior(p_signal)\n",
    "else:\n",
    "    prior_signal = prior\n",
    "                                "
   ]
  },
  {
   "cell_type": "code",
   "execution_count": 22,
   "metadata": {},
   "outputs": [
    {
     "name": "stdout",
     "output_type": "stream",
     "text": [
      "\n",
      " Setup:\n",
      "  - took 180.66 sec\n"
     ]
    },
    {
     "data": {
      "text/plain": [
       "1.3243821402406705e-08"
      ]
     },
     "execution_count": 22,
     "metadata": {},
     "output_type": "execute_result"
    }
   ],
   "source": [
    "print(\"\\n Setup:\")\n",
    "t0 = time()\n",
    "startup_dict = dict(sample_names = args[\"sample_names\"],\n",
    "                    seed = seed,\n",
    "                    Nsrc = args[\"mu\"], \n",
    "                    gamma_range = args[\"gammarange\"],\n",
    "                    src_gamma = args[\"srcgamma\"],\n",
    "                    burn = args[\"burn\"],\n",
    "                    ncpu=1,\n",
    "                    sinDec_range = sinDec_range,\n",
    "                    mode = \"box\",\n",
    "                    bunchsize = 10\n",
    "                   )\n",
    "\n",
    "llh, injector = utils.startup(prior = prior_signal,\n",
    "                              teststatistic=TestStatisticNotSeparated(), \n",
    "                              **startup_dict\n",
    "                             )\n",
    "print(\"  - took %.2f sec\" % (time()-t0))\n",
    "\n",
    "trials_dict = dict(n_iter = args[\"niter\"], \n",
    "                   nside = nside,\n",
    "                   follow_up_factor = args[\"followupfactor\"],\n",
    "                   pVal = pVal_func,\n",
    "                   return_only_grid = True\n",
    "                  )\n",
    "if injector is not None:\n",
    "    trials_dict[\"mean_signal\"] = args[\"mu\"]*len(prior.p)\n",
    "    trials_dict[\"return_position\"] = True\n",
    "    trials_dict[\"poisson\"] = (\"test\" not in args[\"add\"].lower())\n",
    "if injector is not None:\n",
    "    trials_dict[\"phi0\"] = injector.mu2flux(args[\"mu\"])\n",
    "if (\"test\" in args[\"add\"].lower()) or (jobID==0):\n",
    "    utils.save_json_data(startup_dict, savepath, \"startup_dict\")\n",
    "    utils.save_json_data(args, savepath, \"args_dict\")\n",
    "    utils.save_json_data(trials_dict, savepath, \"trials_dict\")\n",
    "    \n",
    "trials_dict.pop(\"phi0\", None)"
   ]
  },
  {
   "cell_type": "markdown",
   "metadata": {},
   "source": [
    "### do trials"
   ]
  },
  {
   "cell_type": "code",
   "execution_count": 23,
   "metadata": {},
   "outputs": [
    {
     "name": "stdout",
     "output_type": "stream",
     "text": [
      "Save Trials and Hotspots to:\n",
      "/data/user/lschumacher/projects/stacking/hotspot_fitting/merged/ic-ant_mdparams-6.0_ecut-85_mu-10_srcgamma-2.19_shift-0_nsamples-2\n",
      "blubb  0\n",
      "Full scan finished after  0h 35m 23s\n"
     ]
    }
   ],
   "source": [
    "print \"Save Trials and Hotspots to:\"\n",
    "print savepath\n",
    "\n",
    "start1 = time()\n",
    "\n",
    "for i,(scan, hotspot) in enumerate(\n",
    "    llh.do_allsky_trials(injector=injector,\n",
    "                         hemispheres=hemispheres,\n",
    "                         spatial_prior=prior,\n",
    "                         **trials_dict                         \n",
    "                        )):\n",
    "    print \"blubb \", i\n",
    "    for hs in hotspot:\n",
    "        pri = int(hs.split(\"_\")[-1])\n",
    "        if \"inj\" in hotspot[hs]:\n",
    "            hotspot[hs][\"inj\"][\"cr_e\"] = pgen.energy[pri]\n",
    "        else:\n",
    "            hotspot[hs][\"cr_e\"] = pgen.energy[pri]\n",
    "    utils.save_json_data(hotspot, savepath, \"job-{}_hotspot-{}\".format(jobID, i))\n",
    "    spots = utils.get_spots(scan[\"TS\"], cutoff_TS=5)\n",
    "    np.save(join(savepath, \"job-{}_warmspots-{}.npy\".format(jobID, i)), spots)\n",
    "\n",
    "if injector is not None:\n",
    "    trials_dict[\"phi0\"] = injector.mu2flux(args[\"mu\"])\n",
    "if (\"test\" in args[\"add\"].lower()) or (jobID==0):\n",
    "    utils.save_json_data(startup_dict, savepath, \"startup_dict\")\n",
    "    utils.save_json_data(args, savepath, \"args_dict\")\n",
    "    utils.save_json_data(trials_dict, savepath, \"trials_dict\")\n",
    "    np.save(join(savepath, \"job-{}_scan-{}.npy\".format(jobID, i)), scan)\n",
    "\n",
    "stop1 = time()\n",
    "\n",
    "mins, secs = divmod(stop1 - start1, 60)\n",
    "hours, mins = divmod(mins, 60)\n",
    "print(\"Full scan finished after {2:2d}h {0:2d}m {1:2d}s\".format(int(mins), int(secs), int(hours)))\n"
   ]
  },
  {
   "cell_type": "code",
   "execution_count": null,
   "metadata": {
    "collapsed": true
   },
   "outputs": [],
   "source": []
  },
  {
   "cell_type": "code",
   "execution_count": 24,
   "metadata": {
    "scrolled": true
   },
   "outputs": [
    {
     "name": "stdout",
     "output_type": "stream",
     "text": [
      "spatial_prior_21\n",
      "TS: 43.49118659972178\n",
      "distance:  0.0028340597980924063\n",
      "ra:\n",
      "0.6013204688511713\n",
      "0.6013204688511713\n",
      "dec:\n",
      "0.4041410658307163\n",
      "0.40697512562875704\n",
      "nsources:\n",
      "10.785044504341675\n",
      "11\n",
      "* ** ** ** ** *\n",
      "spatial_prior_23\n",
      "TS: 11.20631314277626\n",
      "distance:  0.0026041696101084645\n",
      "ra:\n",
      "1.239456476611598\n",
      "1.239456476611598\n",
      "dec:\n",
      "0.0026041696101148926\n",
      "0.0\n",
      "nsources:\n",
      "6.147870583429606\n",
      "3\n",
      "* ** ** ** ** *\n",
      "spatial_prior_9\n",
      "TS: 36.54967110622498\n",
      "distance:  0.006483667425662252\n",
      "ra:\n",
      "5.0765281288689605\n",
      "5.077038127676362\n",
      "dec:\n",
      "-1.2181332433948224\n",
      "-1.2116520114493077\n",
      "nsources:\n",
      "8.96967721022411\n",
      "7\n",
      "* ** ** ** ** *\n",
      "spatial_prior_8\n",
      "TS: 37.1967496165847\n",
      "distance:  0.004019410768613908\n",
      "ra:\n",
      "0.022875674662061602\n",
      "0.030207621669132625\n",
      "dec:\n",
      "-1.2407885874274203\n",
      "-1.2375547945636298\n",
      "nsources:\n",
      "9.80035494886792\n",
      "12\n",
      "* ** ** ** ** *\n",
      "spatial_prior_6\n",
      "TS: 36.41979974574735\n",
      "distance:  0.0032849898855808733\n",
      "ra:\n",
      "3.736591262224224\n",
      "3.7384952577718535\n",
      "dec:\n",
      "-1.2537151458108169\n",
      "-1.2504847799315368\n",
      "nsources:\n",
      "7.8539041063769055\n",
      "10\n",
      "* ** ** ** ** *\n",
      "spatial_prior_5\n",
      "TS: 20.427222943864503\n",
      "distance:  0.003061963595528014\n",
      "ra:\n",
      "4.9915734837798755\n",
      "4.994641445355648\n",
      "dec:\n",
      "-0.06254076179649148\n",
      "-0.06254076179649148\n",
      "nsources:\n",
      "8.615475921203704\n",
      "9\n",
      "* ** ** ** ** *\n",
      "spatial_prior_4\n",
      "TS: 68.46105450625814\n",
      "distance:  0.002320803385063741\n",
      "ra:\n",
      "2.0400384498416773\n",
      "2.0367104915221965\n",
      "dec:\n",
      "-0.7990809715979377\n",
      "-0.7990809715979377\n",
      "nsources:\n",
      "13.26511920171156\n",
      "12\n",
      "* ** ** ** ** *\n",
      "spatial_prior_3\n",
      "TS: 32.11008203959423\n",
      "distance:  0.006468109507702572\n",
      "ra:\n",
      "6.092971689481766\n",
      "6.099107612633309\n",
      "dec:\n",
      "-0.29869248051713493\n",
      "-0.2959688033589314\n",
      "nsources:\n",
      "5.2312575351631905\n",
      "5\n",
      "* ** ** ** ** *\n",
      "spatial_prior_2\n",
      "TS: 23.11571914904706\n",
      "distance:  0.0026982161567580226\n",
      "ra:\n",
      "3.2152237314083036\n",
      "3.2152237314083036\n",
      "dec:\n",
      "-0.26615195093140454\n",
      "-0.2634537347745938\n",
      "nsources:\n",
      "5.223332533443736\n",
      "6\n",
      "* ** ** ** ** *\n",
      "spatial_prior_1\n",
      "TS: 29.958788668441926\n",
      "distance:  0.002609484051729661\n",
      "ra:\n",
      "5.878214379177777\n",
      "5.878214379177777\n",
      "dec:\n",
      "0.0651502458482014\n",
      "0.06254076179649126\n",
      "nsources:\n",
      "12.034047080442157\n",
      "10\n",
      "* ** ** ** ** *\n",
      "spatial_prior_0\n",
      "TS: 12.937196217535316\n",
      "distance:  0.002607886304104133\n",
      "ra:\n",
      "0.7853981633974483\n",
      "0.7853981633974483\n",
      "dec:\n",
      "0.054714795942424566\n",
      "0.05210690963834175\n",
      "nsources:\n",
      "3.962273490244753\n",
      "5\n",
      "* ** ** ** ** *\n",
      "spatial_prior_25\n",
      "TS: 26.302772245686253\n",
      "distance:  0.00301355001724325\n",
      "ra:\n",
      "2.5126605305566803\n",
      "2.5157284921324514\n",
      "dec:\n",
      "-0.18861638617540422\n",
      "-0.18861638617540422\n",
      "nsources:\n",
      "6.744802985384275\n",
      "8\n",
      "* ** ** ** ** *\n",
      "spatial_prior_24\n",
      "TS: 30.452275499959555\n",
      "distance:  0.00696540003929866\n",
      "ra:\n",
      "3.304194617105671\n",
      "3.3011266555298997\n",
      "dec:\n",
      "0.6421996602555804\n",
      "0.648719678340578\n",
      "nsources:\n",
      "8.712670949031518\n",
      "5\n",
      "* ** ** ** ** *\n",
      "spatial_prior_16\n",
      "TS: 44.097610407675155\n",
      "distance:  0.002604805629141495\n",
      "ra:\n",
      "4.3074180523828804\n",
      "4.3074180523828804\n",
      "dec:\n",
      "-0.02343964629780282\n",
      "-0.02083484066864849\n",
      "nsources:\n",
      "10.248943428713012\n",
      "9\n",
      "* ** ** ** ** *\n",
      "spatial_prior_17\n",
      "TS: 33.91964134034222\n",
      "distance:  0.0028980807507872994\n",
      "ra:\n",
      "3.669282044622453\n",
      "3.669282044622453\n",
      "dec:\n",
      "0.45571467549569444\n",
      "0.4528165947449254\n",
      "nsources:\n",
      "7.661690295064579\n",
      "9\n",
      "* ** ** ** ** *\n",
      "spatial_prior_15\n",
      "TS: 21.259309675425953\n",
      "distance:  0.004614326831233583\n",
      "ra:\n",
      "6.030374739562382\n",
      "6.025899701928697\n",
      "dec:\n",
      "0.8093978576178843\n",
      "0.8128320761011001\n",
      "nsources:\n",
      "2.3404618965042707\n",
      "3\n",
      "* ** ** ** ** *\n",
      "spatial_prior_18\n",
      "TS: 26.930839803054543\n",
      "distance:  0.006801513305804413\n",
      "ra:\n",
      "5.243146332993121\n",
      "5.240078371417351\n",
      "dec:\n",
      "0.603719423492241\n",
      "0.5974064166453501\n",
      "nsources:\n",
      "13.758701749616481\n",
      "9\n",
      "* ** ** ** ** *\n"
     ]
    }
   ],
   "source": [
    "for i,p in enumerate(hotspot.keys()):\n",
    "        distance = utils.angular_distance([hotspot[p]['grid']['dec'], hotspot[p]['grid']['ra']], \n",
    "                                                   [hotspot[p]['inj']['dec'], hotspot[p]['inj']['ra']])\n",
    "        if distance<np.radians(0.5):\n",
    "            #if True:\n",
    "            print p\n",
    "            print \"TS:\", hotspot[p]['grid']['TS']\n",
    "            \n",
    "            print \"distance: \", distance\n",
    "        \n",
    "            print \"ra:\"\n",
    "            print(hotspot[p]['grid']['ra'])\n",
    "            print(hotspot[p]['inj']['ra'])\n",
    "            print \"dec:\"\n",
    "            print(hotspot[p]['grid']['dec'])\n",
    "            print(hotspot[p]['inj']['dec'])\n",
    "            print \"nsources:\"\n",
    "            print(hotspot[p]['grid']['nsources'])\n",
    "            print(hotspot[p]['inj']['nsources'])\n",
    "            print(\"* *\"*5)"
   ]
  },
  {
   "cell_type": "code",
   "execution_count": 25,
   "metadata": {},
   "outputs": [
    {
     "data": {
      "image/png": "[encoded data removed]",
      "text/plain": [
       "<Figure size 576x396 with 2 Axes>"
      ]
     },
     "metadata": {},
     "output_type": "display_data"
    }
   ],
   "source": [
    "fig, ax = utils.skymap(plt, scan[\"TS\"], cmap=utils.cmap,\n",
    "                       #vmin=0., \n",
    "                       colorbar=dict(title=r\"$TS$\"),\n",
    "                       rasterized=True)\n",
    "ax.axhline(np.arcsin(0.8), color=\"lightgray\", ls=\"--\", lw=1)\n",
    "#\"\"\"\n",
    "for i,p in enumerate(hotspot.keys()):\n",
    "    ax.scatter(np.pi-hotspot[p]['grid']['ra'], hotspot[p]['grid']['dec'], s=500, c=utils.colors[i%5], alpha=0.74)\n",
    "    ax.scatter(np.pi-hotspot[p]['inj']['ra'], hotspot[p]['inj']['dec'], s=500, c=utils.light_colors[i%5], alpha=0.74, marker=\"*\")\n",
    "    #\"\"\""
   ]
  },
  {
   "cell_type": "code",
   "execution_count": null,
   "metadata": {
    "collapsed": true
   },
   "outputs": [],
   "source": []
  }
 ],
 "metadata": {
  "kernelspec": {
   "display_name": "Python 2",
   "language": "python",
   "name": "python2"
  },
  "language_info": {
   "codemirror_mode": {
    "name": "ipython",
    "version": 2
   },
   "file_extension": ".py",
   "mimetype": "text/x-python",
   "name": "python",
   "nbconvert_exporter": "python",
   "pygments_lexer": "ipython2",
   "version": "2.7.10"
  }
 },
 "nbformat": 4,
 "nbformat_minor": 2
}
