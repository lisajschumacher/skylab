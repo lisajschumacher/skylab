{
 "cells": [
  {
   "cell_type": "code",
   "execution_count": 1,
   "metadata": {},
   "outputs": [
    {
     "name": "stdout",
     "output_type": "stream",
     "text": [
      "Could not import from icecube, coordinate operations will not be possible\n"
     ]
    }
   ],
   "source": [
    "import numpy as np\n",
    "import ic_utils as utils\n",
    "import ic_data as data"
   ]
  },
  {
   "cell_type": "code",
   "execution_count": 2,
   "metadata": {
    "collapsed": true
   },
   "outputs": [],
   "source": [
    "savepath = \"/home/lschumacher/svn_repos/skylab/trunk/doc/analyses/lschumacher-UHECR/compressed_datasets/\""
   ]
  },
  {
   "cell_type": "code",
   "execution_count": 3,
   "metadata": {
    "collapsed": true
   },
   "outputs": [],
   "source": [
    "possible_filenames = ['IC40',\n",
    "                      'IC59',\n",
    "                      'IC79',\n",
    "                      'IC86, 2011',\n",
    "                      'IC86, 2012',\n",
    "                      'IC86, 2013',\n",
    "                      'IC86, 2014',\n",
    "                      'ANTARES'\n",
    "                     ]"
   ]
  },
  {
   "cell_type": "code",
   "execution_count": null,
   "metadata": {
    "collapsed": true
   },
   "outputs": [],
   "source": []
  },
  {
   "cell_type": "code",
   "execution_count": 4,
   "metadata": {
    "collapsed": true
   },
   "outputs": [],
   "source": [
    "from numpy.lib.recfunctions import drop_fields"
   ]
  },
  {
   "cell_type": "code",
   "execution_count": 5,
   "metadata": {
    "collapsed": true
   },
   "outputs": [],
   "source": [
    "mc, exp, livetime, sinDec_bins, energy_bins = data.load_data('IC40')"
   ]
  },
  {
   "cell_type": "code",
   "execution_count": 6,
   "metadata": {},
   "outputs": [
    {
     "name": "stdout",
     "output_type": "stream",
     "text": [
      "[('Run', '<i8'), ('Event', '<i8'), ('ra', '<f8'), ('dec', '<f8'), ('logE', '<f8'), ('sigma', '<f8'), ('time', '<f8'), ('sinDec', '<f8'), ('trueRa', '<f8'), ('trueDec', '<f8'), ('trueE', '<f8'), ('ow', '<f8')] [('Run', '<i8'), ('Event', '<i8'), ('ra', '<f8'), ('dec', '<f8'), ('logE', '<f8'), ('sigma', '<f8'), ('time', '<f8'), ('sinDec', '<f8')] 375.539 [-1.    -0.925 -0.85  -0.775 -0.7   -0.625 -0.55  -0.475 -0.4   -0.325\n",
      " -0.25  -0.225 -0.2   -0.175 -0.15  -0.125 -0.1   -0.075 -0.05  -0.025\n",
      "  0.     0.1    0.2    0.3    0.4    0.5    0.6    0.7    0.8    0.9\n",
      "  1.   ] [2.    2.125 2.25  2.375 2.5   2.625 2.75  2.875 3.    3.125 3.25  3.375\n",
      " 3.5   3.625 3.75  3.875 4.    4.125 4.25  4.375 4.5   4.625 4.75  4.875\n",
      " 5.    5.125 5.25  5.375 5.5   5.625 5.75  5.875 6.    6.125 6.25  6.375\n",
      " 6.5   6.625 6.75  6.875 7.    7.125 7.25  7.375 7.5   7.625 7.75  7.875\n",
      " 8.    8.125 8.25  8.375 8.5   8.625 8.75  8.875 9.   ]\n"
     ]
    }
   ],
   "source": [
    "print mc.dtype, exp.dtype, livetime, sinDec_bins, energy_bins"
   ]
  },
  {
   "cell_type": "code",
   "execution_count": 9,
   "metadata": {},
   "outputs": [
    {
     "name": "stdout",
     "output_type": "stream",
     "text": [
      "[('Run', '<i8'), ('Event', '<i8'), ('ra', '<f8'), ('dec', '<f8'), ('logE', '<f8'), ('sigma', '<f8'), ('time', '<f8'), ('sinDec', '<f8')]\n"
     ]
    }
   ],
   "source": [
    "print exp.dtype"
   ]
  },
  {
   "cell_type": "code",
   "execution_count": 8,
   "metadata": {
    "collapsed": true
   },
   "outputs": [],
   "source": [
    "mc = mc[['ra', 'dec', 'logE', 'sigma', 'trueRa', 'trueDec', 'trueE', 'ow']]\n",
    "mc = utils.compress_struct_to_float32(mc, except_keys=[\"ow\"])"
   ]
  },
  {
   "cell_type": "code",
   "execution_count": 13,
   "metadata": {
    "collapsed": true
   },
   "outputs": [],
   "source": [
    "from sys import getsizeof"
   ]
  },
  {
   "cell_type": "code",
   "execution_count": 15,
   "metadata": {},
   "outputs": [
    {
     "name": "stdout",
     "output_type": "stream",
     "text": [
      "sizes:  59698464 2361696\n",
      "sizes:  37.5001005051 25.0030486566\n",
      "sizes:  155233248 6848800\n",
      "sizes:  37.5000386515 25.0010512791\n",
      "sizes:  191863104 5960608\n",
      "sizes:  37.5000312723 25.0012079305\n",
      "sizes:  119321760 8719712\n",
      "sizes:  37.5000502842 25.0008257153\n",
      "sizes:  707954512 7581696\n",
      "sizes:  34.6153934817 22.2232070502\n",
      "sizes:  707954512 8268144\n",
      "sizes:  34.6153934817 22.2231252866\n",
      "sizes:  707954512 8528928\n",
      "sizes:  34.6153934817 22.2230976742\n",
      "sizes:  355272072 244000\n",
      "sizes:  50.0000135108 50.0196721311\n"
     ]
    }
   ],
   "source": [
    "for f in possible_filenames:\n",
    "    mc, exp, livetime, sinDec_bins, energy_bins = data.load_data(f)\n",
    "    print \"sizes: \", getsizeof(mc), getsizeof(exp)\n",
    "    sizemc, sizeexp = getsizeof(mc), getsizeof(exp)\n",
    "    mc = mc[['ra', 'dec', 'logE', 'sigma', 'trueRa', 'trueDec', 'trueE', 'ow']]\n",
    "    #mc = mc[['ra', 'dec', 'sinDec', 'logE', 'sigma', 'trueRa', 'trueDec', 'trueE', 'ow']]\n",
    "    exp = exp[['ra', 'dec', 'logE', 'sigma']]\n",
    "    #exp = exp[['ra', 'dec', 'sinDec', 'logE', 'sigma']]\n",
    "    mc = utils.compress_struct_to_float32(mc, except_keys=[\"ow\"])\n",
    "    exp = utils.compress_struct_to_float32(exp)\n",
    "    print \"sizes: \", getsizeof(mc)*100./sizemc, getsizeof(exp)*100./sizeexp\n",
    "    np.save(savepath+f+\"_mc_compressed.npy\", mc)    \n",
    "    np.save(savepath+f+\"_exp_compressed.npy\", exp)    \n",
    "    np.save(savepath+f+\"_sd-bins_compressed.npy\", sinDec_bins)    \n",
    "    np.save(savepath+f+\"_e-bins_compressed.npy\", energy_bins)\n",
    "    np.save(savepath+f+\"_lt_compressed.npy\", livetime)"
   ]
  },
  {
   "cell_type": "code",
   "execution_count": 21,
   "metadata": {
    "collapsed": true
   },
   "outputs": [],
   "source": [
    "combined_filenames = [\"IC86, 2012-2014\"]"
   ]
  },
  {
   "cell_type": "code",
   "execution_count": 17,
   "metadata": {},
   "outputs": [
    {
     "name": "stdout",
     "output_type": "stream",
     "text": [
      "sizes:  707954512 24378576\n",
      "sizes:  34.6153934817 22.2225285021\n"
     ]
    }
   ],
   "source": [
    "for f in combined_filenames:\n",
    "    mc, exp, livetime, sinDec_bins, energy_bins = data.load_data(f)    print \"sizes: \", getsizeof(mc), getsizeof(exp)\n",
    "    sizemc, sizeexp = getsizeof(mc), getsizeof(exp)\n",
    "    mc = mc[['ra', 'dec', 'logE', 'sigma', 'trueRa', 'trueDec', 'trueE', 'ow']]\n",
    "    #mc = mc[['ra', 'dec', 'sinDec', 'logE', 'sigma', 'trueRa', 'trueDec', 'trueE', 'ow']]\n",
    "    exp = exp[['ra', 'dec', 'logE', 'sigma']]\n",
    "    #exp = exp[['ra', 'dec', 'sinDec', 'logE', 'sigma']]\n",
    "    mc = utils.compress_struct_to_float32(mc, except_keys=[\"ow\"])\n",
    "    exp = utils.compress_struct_to_float32(exp)\n",
    "    print \"sizes: \", getsizeof(mc)*100./sizemc, getsizeof(exp)*100./sizeexp\n",
    "    np.save(savepath+f+\"_mc_compressed.npy\", mc)    \n",
    "    np.save(savepath+f+\"_exp_compressed.npy\", exp)    \n",
    "    np.save(savepath+f+\"_sd-bins_compressed.npy\", sinDec_bins)    \n",
    "    np.save(savepath+f+\"_e-bins_compressed.npy\", energy_bins)\n",
    "    np.save(savepath+f+\"_lt_compressed.npy\", livetime)"
   ]
  },
  {
   "cell_type": "code",
   "execution_count": null,
   "metadata": {
    "collapsed": true
   },
   "outputs": [],
   "source": []
  },
  {
   "cell_type": "code",
   "execution_count": null,
   "metadata": {
    "collapsed": true
   },
   "outputs": [],
   "source": [
    "for f in possible_filenames[:2]:\n",
    "    mc = np.load(\"/data/ana/analyses/ps_tracks/version-002-p00/IC86-2012_corrected_MC.npy\")\n",
    "    mc = mc[['ra', 'dec', 'logE', 'sigma', 'trueRa', 'trueDec', 'trueE', 'ow']]\n",
    "    mc = mc.astype([('ra', '<f4'), ('dec', '<f4'), ('logE', '<f4'), ('sigma', '<f4'), ('trueRa', '<f4'), ('trueDec', '<f4'), ('trueE', '<f4'), ('ow', '<f8')])\n",
    "    np.save(\"/home/reimann/PS_mc_compressed.npy\", mc)"
   ]
  }
 ],
 "metadata": {
  "kernelspec": {
   "display_name": "Python 2",
   "language": "python",
   "name": "python2"
  },
  "language_info": {
   "codemirror_mode": {
    "name": "ipython",
    "version": 2
   },
   "file_extension": ".py",
   "mimetype": "text/x-python",
   "name": "python",
   "nbconvert_exporter": "python",
   "pygments_lexer": "ipython2",
   "version": "2.7.10"
  }
 },
 "nbformat": 4,
 "nbformat_minor": 2
}
