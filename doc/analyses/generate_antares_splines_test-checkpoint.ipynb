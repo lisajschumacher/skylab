{
 "cells": [
  {
   "cell_type": "code",
   "execution_count": 2,
   "metadata": {
    "collapsed": true
   },
   "outputs": [],
   "source": [
    "%matplotlib inline"
   ]
  },
  {
   "cell_type": "code",
   "execution_count": 3,
   "metadata": {
    "collapsed": true
   },
   "outputs": [],
   "source": [
    "import matplotlib.pyplot as plt"
   ]
  },
  {
   "cell_type": "code",
   "execution_count": 79,
   "metadata": {
    "collapsed": true
   },
   "outputs": [],
   "source": [
    "#!/bin/env python\n",
    "\n",
    "import numpy as np\n",
    "import cPickle as pickle\n",
    "from os.path import join\n",
    "\n",
    "from glob import glob\n",
    "\n",
    "from scipy.integrate import quad\n",
    "from scipy.interpolate import InterpolatedUnivariateSpline\n",
    "\n",
    "\n",
    "def generate_inv_function(vals, x):\n",
    "    #xmin = np.min(x)\n",
    "    #xmax = np.max(x)\n",
    "    #dx = x[1]-x[0]\n",
    "    #x_space = np.concatenate([[x[0]-dx*0.5], x+dx*0.5])\n",
    "    #vals = np.log10(vals)\n",
    "    norm = np.sum(vals)\n",
    "    f_int = np.cumsum(vals)*1./norm\n",
    "    #f_int = np.concatenate([[0.], f_int])\n",
    "    assert(abs(f_int[-1]-1.)<1e-5)\n",
    "    print min(vals), max(vals)\n",
    "    return InterpolatedUnivariateSpline(f_int, x, k=1)\n",
    "\n",
    "def generate_inv_functions_from_2d_hist(data, x, y, z):\n",
    "    xval = np.unique(data[x])\n",
    "    #dx = 0.5*(xval[1]-xval[0])\n",
    "    #x_space = np.concatenate([[xval[0]-dx], xval+dx])\n",
    "    yval = np.unique(data[y])\n",
    "    xbins = len(xval)\n",
    "    ybins = len(yval)\n",
    "    pix_y = yval[1]-yval[0]\n",
    "    pix_x = xval[1]-xval[0]\n",
    "    pix_area = pix_x*pix_y\n",
    "\n",
    "    # marginalize function over y\n",
    "    data_2d = data[z].reshape(xbins, ybins)\n",
    "    data_1d_x = data_2d.sum(axis=1)*pix_y\n",
    "    mask_x = np.ones_like(data_1d_x, dtype=bool) #>0\n",
    "    data_1d_x_dict = dict()\n",
    "    data_1d_y_dict = dict()\n",
    "    data_1d_x_dict[\"spline_0\"] = generate_inv_function(data_1d_x[mask_x],\n",
    "                                                       xval[mask_x])\n",
    "    data_1d_x_dict[\"x\"] = xval[mask_x]\n",
    "    \n",
    "    for i in range(np.count_nonzero(mask_x)):\n",
    "        data_1d_y = data_2d[i]\n",
    "        mask_y = np.ones_like(data_1d_y, dtype=bool)#>0\n",
    "        data_1d_y_dict[\"inv_spline_{}\".format(i)] = generate_inv_function(data_1d_y[mask_y],\n",
    "                                                                      yval[mask_y])\n",
    "        data_1d_y_dict[\"spline_{}\".format(i)] = InterpolatedUnivariateSpline(yval[mask_y], data_1d_y[mask_y], k=1)\n",
    "        data_1d_y_dict[\"raw_{}\".format(i)] = [yval[mask_y], data_1d_y[mask_y]]\n",
    "        \n",
    "        break\n",
    "    return data_1d_x_dict, data_1d_y_dict"
   ]
  },
  {
   "cell_type": "code",
   "execution_count": 80,
   "metadata": {},
   "outputs": [
    {
     "name": "stdout",
     "output_type": "stream",
     "text": [
      "0.041176872506699914 1.0916268560602973\n",
      "4.36559e-06 1.5183\n"
     ]
    },
    {
     "data": {
      "image/png": "[encoded data removed]",
      "text/plain": [
       "<Figure size 432x288 with 2 Axes>"
      ]
     },
     "metadata": {},
     "output_type": "display_data"
    }
   ],
   "source": [
    "ant_path = \"/home/lschumacher/antares/LL_ingredients/\"\n",
    "logE_range = (2.5,6)\n",
    "sindec_range = (-1., 0.8)\n",
    "files = sorted(glob(join(ant_path, \"*\")))\n",
    "\n",
    "for f in files:\n",
    "    data = np.genfromtxt(f)\n",
    "    identifier = f.split(\"/\")[-1].split(\".\")[0]\n",
    "    logE_sindec_pdf_dict = dict()\n",
    "    s_mask = np.logical_and(data[:,0]>=sindec_range[0], data[:,0]<=sindec_range[1])\n",
    "    e_mask = np.logical_and(data[:,1]>=logE_range[0], data[:,1]<=logE_range[1])\n",
    "    mask = np.logical_and(s_mask, e_mask)\n",
    "    logE_sindec_pdf_dict[\"sinDec\"] = data[:,0][mask]\n",
    "    logE_sindec_pdf_dict[\"logE\"] = data[:,1][mask]\n",
    "    logE_sindec_pdf_dict[\"value\"] = data[:,2][mask]\n",
    "    logE_sindec_pdf_dict[\"value\"][logE_sindec_pdf_dict[\"value\"]<=0] = min(logE_sindec_pdf_dict[\"value\"][logE_sindec_pdf_dict[\"value\"]>0])\n",
    "    data_1d_x_dict, data_1d_y_dict = generate_inv_functions_from_2d_hist(logE_sindec_pdf_dict, \"sinDec\", \"logE\", \"value\")\n",
    "    \n",
    "    vmax = 1\n",
    "    vmin = 1e-3\n",
    "    xbins = len(np.unique(logE_sindec_pdf_dict[\"sinDec\"]))\n",
    "    ybins = len(np.unique(logE_sindec_pdf_dict[\"logE\"]))\n",
    "    plt.figure()\n",
    "    \n",
    "    ax = plt.pcolor(logE_sindec_pdf_dict[\"sinDec\"].reshape(xbins, ybins), \n",
    "                    logE_sindec_pdf_dict[\"logE\"].reshape(xbins, ybins), \n",
    "                    logE_sindec_pdf_dict[\"value\"].reshape(xbins, ybins),\n",
    "                    vmin=vmin,\n",
    "                    vmax=vmax,\n",
    "                    norm=LogNorm(),\n",
    "                    cmap=plt.cm.jet)\n",
    "    plt.colorbar()\n",
    "    plt.xlim(-1,1)\n",
    "    plt.ylim(2.5, 6)\n",
    "    plt.title(identifier)\n",
    "    \n",
    "    break"
   ]
  },
  {
   "cell_type": "code",
   "execution_count": 1,
   "metadata": {
    "collapsed": true
   },
   "outputs": [],
   "source": [
    "with open(\"/data/user/lschumacher/projects/stacking/antares/{}_1d_x.pkl\".format(identifier), \"wb\") as f:\n",
    "    pickle.dump(data_1d_x_dict, f)\n",
    "\n",
    "with open(\"/data/user/lschumacher/projects/stacking/antares/{}_1d_y.pkl\".format(identifier), \"wb\") as f:\n",
    "    pickle.dump(data_1d_y_dict, f)"
   ]
  },
  {
   "cell_type": "raw",
   "metadata": {},
   "source": [
    "data_1d_x_dict"
   ]
  },
  {
   "cell_type": "raw",
   "metadata": {},
   "source": [
    "data_1d_y_dict"
   ]
  },
  {
   "cell_type": "code",
   "execution_count": 74,
   "metadata": {},
   "outputs": [
    {
     "data": {
      "text/plain": [
       "[<matplotlib.lines.Line2D at 0x7fdc5352fd10>]"
      ]
     },
     "execution_count": 74,
     "metadata": {},
     "output_type": "execute_result"
    },
    {
     "data": {
      "image/png": "[encoded data removed]",
      "text/plain": [
       "<Figure size 432x288 with 1 Axes>"
      ]
     },
     "metadata": {},
     "output_type": "display_data"
    }
   ],
   "source": [
    "x = np.linspace(0,1)\n",
    "plt.plot(x, data_1d_x_dict[\"spline_0\"](x))"
   ]
  },
  {
   "cell_type": "code",
   "execution_count": 76,
   "metadata": {},
   "outputs": [
    {
     "data": {
      "text/plain": [
       "[<matplotlib.lines.Line2D at 0x7fdc52d9b090>]"
      ]
     },
     "execution_count": 76,
     "metadata": {},
     "output_type": "execute_result"
    },
    {
     "data": {
      "image/png": "[encoded data removed]",
      "text/plain": [
       "<Figure size 432x288 with 1 Axes>"
      ]
     },
     "metadata": {},
     "output_type": "display_data"
    }
   ],
   "source": [
    "x = np.linspace(0,1, num=1000)\n",
    "plt.plot(x, data_1d_y_dict[\"spline_0\"](x))"
   ]
  },
  {
   "cell_type": "code",
   "execution_count": 45,
   "metadata": {},
   "outputs": [
    {
     "name": "stdout",
     "output_type": "stream",
     "text": [
      "<open file '/data/user/lschumacher/projects/stacking/antares/Bkg_PDF_1d_x.pkl', mode 'rb' at 0x7fdc55687c00>\n"
     ]
    }
   ],
   "source": [
    "with open(\"/data/user/lschumacher/projects/stacking/antares/{}_1d_x.pkl\".format(identifier), \"rb\") as f:\n",
    "    data_1d_x_dict = pickle.load(f)\n",
    "\n",
    "with open(\"/data/user/lschumacher/projects/stacking/antares/{}_1d_y.pkl\".format(identifier), \"rb\") as f:\n",
    "    data_1d_y_dict = pickle.load(f)"
   ]
  }
 ],
 "metadata": {
  "kernelspec": {
   "display_name": "Python 2",
   "language": "python",
   "name": "python2"
  },
  "language_info": {
   "codemirror_mode": {
    "name": "ipython",
    "version": 2
   },
   "file_extension": ".py",
   "mimetype": "text/x-python",
   "name": "python",
   "nbconvert_exporter": "python",
   "pygments_lexer": "ipython2",
   "version": "2.7.10"
  }
 },
 "nbformat": 4,
 "nbformat_minor": 2
}
